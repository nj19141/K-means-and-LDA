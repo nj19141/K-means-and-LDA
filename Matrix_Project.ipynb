{
 "cells": [
  {
   "cell_type": "markdown",
   "metadata": {},
   "source": [
    "Part 1: Loading Data"
   ]
  },
  {
   "cell_type": "code",
   "execution_count": 1,
   "metadata": {},
   "outputs": [],
   "source": [
    "import warnings\n",
    "warnings.filterwarnings('ignore')\n",
    "import numpy as np\n",
    "import pandas as pd\n",
    "import nltk\n",
    "import re\n",
    "import os\n",
    "from sklearn.decomposition import PCA\n",
    "from sklearn.feature_extraction.text import TfidfVectorizer\n",
    "import matplotlib.pyplot as plt\n",
    "import lda"
   ]
  },
  {
   "cell_type": "code",
   "execution_count": 2,
   "metadata": {},
   "outputs": [],
   "source": [
    "#we got 100 movie titles and their information (combined from imdb and wikipedia)\n",
    "#read the movie titles\n",
    "titles = open('plot_summaries_titles.txt').read().split('\\n')\n",
    "titles = titles[:100] # ensures that only the first 100 are read in\n",
    "\n",
    "# The wiki information and imdb imforamtion of each movie is separated by the keywords \"BREAKS HERE\".\n",
    "# Each information may consist of multiple paragraphs.\n",
    "info_wiki = open('plot_summaries_wiki.txt').read().split('\\n BREAKS HERE')\n",
    "info_wiki = info_wiki[:100]\n",
    "\n",
    "info_imdb = open('plot_summaries_imdb.txt').read().split('\\n BREAKS HERE')\n",
    "info_imdb = info_imdb[:100]\n",
    "\n",
    "# Combine imdb and wiki to get full inforamtion for the movies.\n",
    "info = []\n",
    "for i in range(len(info_wiki)):\n",
    "    item = info_wiki[i] + info_imdb[i]\n",
    "    info.append(item)\n",
    "\n",
    "# Because these movies information have already been ranked, we just need\n",
    "# to generate a list of ordered numbers for future usage.\n",
    "ranks = range(1, 1+len(titles)) # 1~100"
   ]
  },
  {
   "cell_type": "markdown",
   "metadata": {},
   "source": [
    "Part 2: Tokenizing and Stemming'\n",
    "Let's load stopwords and stemmer function from NLTK library. Some examples of stopwords are \"a\", \"the\", and \"in\", which don't convey siginificant meaning. Stemming is the process of breaking a word down into its plain form."
   ]
  },
  {
   "cell_type": "code",
   "execution_count": 3,
   "metadata": {},
   "outputs": [
    {
     "name": "stdout",
     "output_type": "stream",
     "text": [
      "[nltk_data] Downloading package stopwords to\n",
      "[nltk_data]     C:\\Users\\lenovo\\AppData\\Roaming\\nltk_data...\n",
      "[nltk_data]   Unzipping corpora\\stopwords.zip.\n",
      "We use179 stopwords from nltk library.\n",
      "Examples: ['i', 'me', 'my', 'myself', 'we', 'our', 'ours', 'ourselves', 'you', \"you're\"]\n"
     ]
    }
   ],
   "source": [
    "# Use nltk's English stopwords.\n",
    "from nltk.corpus import stopwords\n",
    "nltk.download('stopwords')\n",
    "stopwords = stopwords.words('english')  #nltk.corpus.\n",
    "\n",
    "print (\"We use\" + str(len(stopwords)) + \" stopwords from nltk library.\")\n",
    "print (\"Examples:\", stopwords[:10])"
   ]
  },
  {
   "cell_type": "code",
   "execution_count": 4,
   "metadata": {},
   "outputs": [
    {
     "name": "stdout",
     "output_type": "stream",
     "text": [
      "[nltk_data] Downloading package punkt to\n",
      "[nltk_data]     C:\\Users\\lenovo\\AppData\\Roaming\\nltk_data...\n",
      "[nltk_data]   Unzipping tokenizers\\punkt.zip.\n"
     ]
    }
   ],
   "source": [
    "nltk.download('punkt')\n",
    "from nltk.stem.snowball import SnowballStemmer\n",
    "stemmer = SnowballStemmer(\"english\")\n",
    "\n",
    "def tokenization_and_stemming(text, stemming=True):\n",
    "    tokens=[]\n",
    "    for sent in nltk.sent_tokenize(text):\n",
    "        for word in nltk.word_tokenize(sent):\n",
    "            if word not in stopwords:\n",
    "                tokens.append(word.lower())\n",
    "                \n",
    "    # filter out any tokens which does not contain letters (e.g., numeric tokens, raw punctuation)\n",
    "    \n",
    "    filtered_tokens = []\n",
    "    for token in tokens:\n",
    "        if re.search('[a-zA-Z]', token):\n",
    "            filtered_tokens.append(token)\n",
    "            \n",
    "    if stemming:\n",
    "        stems = [stemmer.stem(t) for t in filtered_tokens]\n",
    "        return stems\n",
    "    else:\n",
    "        return filtered_tokens"
   ]
  },
  {
   "cell_type": "code",
   "execution_count": 5,
   "metadata": {},
   "outputs": [
    {
     "data": {
      "text/plain": [
       "['ami', 'look', 'father', \"'s\", 'arm']"
      ]
     },
     "execution_count": 5,
     "metadata": {},
     "output_type": "execute_result"
    }
   ],
   "source": [
    "# test\n",
    "tokenization_and_stemming(\"Amy looked at her father's arm.\")"
   ]
  },
  {
   "cell_type": "code",
   "execution_count": 6,
   "metadata": {},
   "outputs": [],
   "source": [
    "# Use our defined functions to analyze (i.e. tokenize, stem) our information\n",
    "docs_stemmed = []\n",
    "docs_tokenized = []\n",
    "for i in info:\n",
    "    tokenized_and_stemmed_results = tokenization_and_stemming(i)\n",
    "    docs_stemmed.extend(tokenized_and_stemmed_results)\n",
    "    tokenized_results = tokenization_and_stemming(i, stemming=False)\n",
    "    docs_tokenized.extend(tokenized_results)"
   ]
  },
  {
   "cell_type": "code",
   "execution_count": 7,
   "metadata": {},
   "outputs": [
    {
     "name": "stdout",
     "output_type": "stream",
     "text": [
      "soldiers\n"
     ]
    }
   ],
   "source": [
    "# Let's create a mapping from stemmed words to original tokenized words for result interpretation\n",
    "vocab_frame_dict = {docs_stemmed[x]:docs_tokenized[x] for x in range(len(docs_stemmed))}\n",
    "#test\n",
    "print (vocab_frame_dict['soldier'])"
   ]
  },
  {
   "cell_type": "markdown",
   "metadata": {},
   "source": [
    "Part 3: TF-IDF\n",
    "Transform the 100 information to a matrix of TF-IDF features."
   ]
  },
  {
   "cell_type": "code",
   "execution_count": 8,
   "metadata": {},
   "outputs": [
    {
     "name": "stdout",
     "output_type": "stream",
     "text": [
      "In total, there are 100 information and 538 terms.\n"
     ]
    }
   ],
   "source": [
    "# define vectorizer parameters\n",
    "tfidf_model = TfidfVectorizer(max_df=0.8, min_df=0.2, stop_words='english', \n",
    "                              use_idf=True, tokenizer=tokenization_and_stemming, ngram_range=(1,1))\n",
    "\n",
    "# fit the vectorizer to information\n",
    "tfidf_matrix = tfidf_model.fit_transform(info)\n",
    "\n",
    "print (\"In total, there are \" + str(tfidf_matrix.shape[0]) + \\\n",
    "        \" information and \" + str(tfidf_matrix.shape[1]) + \" terms.\")"
   ]
  },
  {
   "cell_type": "code",
   "execution_count": 9,
   "metadata": {},
   "outputs": [],
   "source": [
    "# save the terms identified by TF_IDF\n",
    "tf_selected_words = tfidf_model.get_feature_names()"
   ]
  },
  {
   "cell_type": "markdown",
   "metadata": {},
   "source": [
    "Part 4: K-means clustering\n",
    "Let's use K-means to group the movies"
   ]
  },
  {
   "cell_type": "code",
   "execution_count": 10,
   "metadata": {},
   "outputs": [],
   "source": [
    "from sklearn.cluster import KMeans\n",
    "\n",
    "num_clusters = 3   # arbitrary choice\n",
    "km = KMeans(n_clusters=num_clusters, random_state=0)\n",
    "km.fit(tfidf_matrix)\n",
    "clusters = km.labels_.tolist()"
   ]
  },
  {
   "cell_type": "code",
   "execution_count": 11,
   "metadata": {},
   "outputs": [
    {
     "data": {
      "text/html": [
       "<div>\n",
       "<style scoped>\n",
       "    .dataframe tbody tr th:only-of-type {\n",
       "        vertical-align: middle;\n",
       "    }\n",
       "\n",
       "    .dataframe tbody tr th {\n",
       "        vertical-align: top;\n",
       "    }\n",
       "\n",
       "    .dataframe thead th {\n",
       "        text-align: right;\n",
       "    }\n",
       "</style>\n",
       "<table border=\"1\" class=\"dataframe\">\n",
       "  <thead>\n",
       "    <tr style=\"text-align: right;\">\n",
       "      <th></th>\n",
       "      <th>rank</th>\n",
       "      <th>title</th>\n",
       "      <th>cluster</th>\n",
       "    </tr>\n",
       "  </thead>\n",
       "  <tbody>\n",
       "    <tr>\n",
       "      <th>0</th>\n",
       "      <td>1</td>\n",
       "      <td>The Godfather</td>\n",
       "      <td>2</td>\n",
       "    </tr>\n",
       "    <tr>\n",
       "      <th>1</th>\n",
       "      <td>2</td>\n",
       "      <td>The Shawshank Redemption</td>\n",
       "      <td>2</td>\n",
       "    </tr>\n",
       "    <tr>\n",
       "      <th>2</th>\n",
       "      <td>3</td>\n",
       "      <td>Schindler's List</td>\n",
       "      <td>1</td>\n",
       "    </tr>\n",
       "    <tr>\n",
       "      <th>3</th>\n",
       "      <td>4</td>\n",
       "      <td>Raging Bull</td>\n",
       "      <td>2</td>\n",
       "    </tr>\n",
       "    <tr>\n",
       "      <th>4</th>\n",
       "      <td>5</td>\n",
       "      <td>Casablanca</td>\n",
       "      <td>2</td>\n",
       "    </tr>\n",
       "    <tr>\n",
       "      <th>5</th>\n",
       "      <td>6</td>\n",
       "      <td>One Flew Over the Cuckoo's Nest</td>\n",
       "      <td>1</td>\n",
       "    </tr>\n",
       "    <tr>\n",
       "      <th>6</th>\n",
       "      <td>7</td>\n",
       "      <td>Gone with the Wind</td>\n",
       "      <td>1</td>\n",
       "    </tr>\n",
       "    <tr>\n",
       "      <th>7</th>\n",
       "      <td>8</td>\n",
       "      <td>Citizen Kane</td>\n",
       "      <td>2</td>\n",
       "    </tr>\n",
       "    <tr>\n",
       "      <th>8</th>\n",
       "      <td>9</td>\n",
       "      <td>The Wizard of Oz</td>\n",
       "      <td>2</td>\n",
       "    </tr>\n",
       "    <tr>\n",
       "      <th>9</th>\n",
       "      <td>10</td>\n",
       "      <td>Titanic</td>\n",
       "      <td>2</td>\n",
       "    </tr>\n",
       "  </tbody>\n",
       "</table>\n",
       "</div>"
      ],
      "text/plain": [
       "   rank                            title  cluster\n",
       "0     1                    The Godfather        2\n",
       "1     2         The Shawshank Redemption        2\n",
       "2     3                 Schindler's List        1\n",
       "3     4                      Raging Bull        2\n",
       "4     5                       Casablanca        2\n",
       "5     6  One Flew Over the Cuckoo's Nest        1\n",
       "6     7               Gone with the Wind        1\n",
       "7     8                     Citizen Kane        2\n",
       "8     9                 The Wizard of Oz        2\n",
       "9    10                          Titanic        2"
      ]
     },
     "execution_count": 11,
     "metadata": {},
     "output_type": "execute_result"
    }
   ],
   "source": [
    "# Analyse K-means Results\n",
    "# create DataFrame films from all of the input files.\n",
    "films = { 'title': titles, 'rank': ranks, 'cluster': clusters}\n",
    "frame = pd.DataFrame(films, columns = ['rank', 'title', 'cluster'])\n",
    "frame.head(10)"
   ]
  },
  {
   "cell_type": "code",
   "execution_count": 12,
   "metadata": {},
   "outputs": [
    {
     "name": "stdout",
     "output_type": "stream",
     "text": [
      " Number of movies included in each cluster: \n"
     ]
    },
    {
     "data": {
      "text/html": [
       "<div>\n",
       "<style scoped>\n",
       "    .dataframe tbody tr th:only-of-type {\n",
       "        vertical-align: middle;\n",
       "    }\n",
       "\n",
       "    .dataframe tbody tr th {\n",
       "        vertical-align: top;\n",
       "    }\n",
       "\n",
       "    .dataframe thead th {\n",
       "        text-align: right;\n",
       "    }\n",
       "</style>\n",
       "<table border=\"1\" class=\"dataframe\">\n",
       "  <thead>\n",
       "    <tr style=\"text-align: right;\">\n",
       "      <th></th>\n",
       "      <th>cluster</th>\n",
       "    </tr>\n",
       "  </thead>\n",
       "  <tbody>\n",
       "    <tr>\n",
       "      <th>2</th>\n",
       "      <td>62</td>\n",
       "    </tr>\n",
       "    <tr>\n",
       "      <th>1</th>\n",
       "      <td>28</td>\n",
       "    </tr>\n",
       "    <tr>\n",
       "      <th>0</th>\n",
       "      <td>10</td>\n",
       "    </tr>\n",
       "  </tbody>\n",
       "</table>\n",
       "</div>"
      ],
      "text/plain": [
       "   cluster\n",
       "2       62\n",
       "1       28\n",
       "0       10"
      ]
     },
     "execution_count": 12,
     "metadata": {},
     "output_type": "execute_result"
    }
   ],
   "source": [
    "print (\" Number of movies included in each cluster: \")\n",
    "frame['cluster'].value_counts().to_frame()"
   ]
  },
  {
   "cell_type": "code",
   "execution_count": 13,
   "metadata": {},
   "outputs": [
    {
     "name": "stdout",
     "output_type": "stream",
     "text": [
      "Average rank (1 to 100) per cluster: \n"
     ]
    },
    {
     "data": {
      "text/html": [
       "<div>\n",
       "<style scoped>\n",
       "    .dataframe tbody tr th:only-of-type {\n",
       "        vertical-align: middle;\n",
       "    }\n",
       "\n",
       "    .dataframe tbody tr th {\n",
       "        vertical-align: top;\n",
       "    }\n",
       "\n",
       "    .dataframe thead th {\n",
       "        text-align: right;\n",
       "    }\n",
       "</style>\n",
       "<table border=\"1\" class=\"dataframe\">\n",
       "  <thead>\n",
       "    <tr style=\"text-align: right;\">\n",
       "      <th></th>\n",
       "      <th>rank</th>\n",
       "    </tr>\n",
       "    <tr>\n",
       "      <th>cluster</th>\n",
       "      <th></th>\n",
       "    </tr>\n",
       "  </thead>\n",
       "  <tbody>\n",
       "    <tr>\n",
       "      <th>0</th>\n",
       "      <td>55.300000</td>\n",
       "    </tr>\n",
       "    <tr>\n",
       "      <th>1</th>\n",
       "      <td>42.821429</td>\n",
       "    </tr>\n",
       "    <tr>\n",
       "      <th>2</th>\n",
       "      <td>53.193548</td>\n",
       "    </tr>\n",
       "  </tbody>\n",
       "</table>\n",
       "</div>"
      ],
      "text/plain": [
       "              rank\n",
       "cluster           \n",
       "0        55.300000\n",
       "1        42.821429\n",
       "2        53.193548"
      ]
     },
     "execution_count": 13,
     "metadata": {},
     "output_type": "execute_result"
    }
   ],
   "source": [
    "grouped = frame[['rank', 'cluster']].groupby('cluster')\n",
    "print (\"Average rank (1 to 100) per cluster: \")\n",
    "grouped.mean()"
   ]
  },
  {
   "cell_type": "code",
   "execution_count": 14,
   "metadata": {},
   "outputs": [
    {
     "name": "stdout",
     "output_type": "stream",
     "text": [
      "<Document clustering result by K-means>\n",
      "Cluster 0 words:\n",
      "george, \n",
      "family, \n",
      "singing, \n",
      "performed, \n",
      "captain, \n",
      "marries, \n",
      "filmed, \n",
      "war, \n",
      "ii, \n",
      "dance, \n",
      "Cluster 0 titles (10 movies): \n",
      "The Sound of Music, Singin' in the Rain, It's a Wonderful Life, The Philadelphia Story, An American in Paris, The King's Speech, A Place in the Sun, Giant, Nashville, Yankee Doodle Dandy \n",
      "\n",
      "Cluster 1 words:\n",
      "army, \n",
      "soldiers, \n",
      "killing, \n",
      "war, \n",
      "commanded, \n",
      "orders, \n",
      "men, \n",
      "general, \n",
      "battle, \n",
      "forcing, \n",
      "Cluster 1 titles (28 movies): \n",
      "Schindler's List, One Flew Over the Cuckoo's Nest, Gone with the Wind, Lawrence of Arabia, Star Wars, 2001: A Space Odyssey, The Bridge on the River Kwai, Dr. Strangelove or: How I Learned to Stop Worrying and Love the Bomb, Apocalypse Now, The Lord of the Rings: The Return of the King, Gladiator, From Here to Eternity, Saving Private Ryan, Raiders of the Lost Ark, Ben-Hur, Patton, Jaws, Braveheart, The Good, the Bad and the Ugly, Butch Cassidy and the Sundance Kid, Platoon, Dances with Wolves, The Pianist, The Deer Hunter, All Quiet on the Western Front, Network, Stagecoach, Mutiny on the Bounty \n",
      "\n",
      "Cluster 2 words:\n",
      "police, \n",
      "father, \n",
      "car, \n",
      "killing, \n",
      "home, \n",
      "friend, \n",
      "meet, \n",
      "asks, \n",
      "love, \n",
      "n't, \n",
      "Cluster 2 titles (62 movies): \n",
      "The Godfather, The Shawshank Redemption, Raging Bull, Casablanca, Citizen Kane, The Wizard of Oz, Titanic, The Godfather: Part II, Psycho, Sunset Blvd., Vertigo, On the Waterfront, Forrest Gump, West Side Story, E.T. the Extra-Terrestrial, The Silence of the Lambs, Chinatown, Some Like It Hot, 12 Angry Men, Amadeus, Gandhi, Unforgiven, Rocky, A Streetcar Named Desire, To Kill a Mockingbird, The Best Years of Our Lives, My Fair Lady, Doctor Zhivago, The Treasure of the Sierra Madre, The Apartment, High Noon, Goodfellas, The Exorcist, The French Connection, City Lights, It Happened One Night, Midnight Cowboy, Mr. Smith Goes to Washington, Rain Man, Annie Hall, Out of Africa, Good Will Hunting, Terms of Endearment, Tootsie, Fargo, The Grapes of Wrath, Shane, The Green Mile, Close Encounters of the Third Kind, The Graduate, American Graffiti, Pulp Fiction, The African Queen, The Maltese Falcon, A Clockwork Orange, Taxi Driver, Wuthering Heights, Double Indemnity, Rebel Without a Cause, Rear Window, The Third Man, North by Northwest \n",
      "\n"
     ]
    }
   ],
   "source": [
    "print (\"<Document clustering result by K-means>\")\n",
    "\n",
    "# km.cluster_centers_ denotes the importances of each items in centroid.\n",
    "# need to sort it in descending order and get the top k items.\n",
    "order_centroids = km.cluster_centers_.argsort()[:, ::-1]\n",
    "\n",
    "Cluster_keywords_summary = {}\n",
    "for i in range(num_clusters):\n",
    "    print (\"Cluster \" + str(i) + \" words:\") ,\n",
    "    Cluster_keywords_summary[i] = []\n",
    "    for ind in order_centroids[i, :10]:  # get the top 6 words of each cluster\n",
    "        Cluster_keywords_summary[i].append(vocab_frame_dict[tf_selected_words[ind]])\n",
    "        print (vocab_frame_dict[tf_selected_words[ind]] + \", \"),\n",
    "    print\n",
    "    \n",
    "    cluster_movies = frame.loc[frame.cluster == i, 'title'].values.tolist()\n",
    "    print (\"Cluster \" + str(i) + \" titles (\" + str(len(cluster_movies)) + \" movies): \")\n",
    "    print (\", \".join(cluster_movies), '\\n')\n"
   ]
  },
  {
   "cell_type": "code",
   "execution_count": 15,
   "metadata": {},
   "outputs": [],
   "source": [
    "# we can see from the above results to find the main topics of the three cluster of movies are:\n",
    "# Families, love and life\n",
    "# Wars and battles\n",
    "# Detective and crime\n",
    "\n",
    "\n",
    "# Plot K-means Result\n",
    "# use PCA to select 2 principal components for visualization\n",
    "pca = PCA(n_components=2)\n",
    "tfidf_matrix_np=tfidf_matrix.toarray()\n",
    "X = pca.fit_transform(tfidf_matrix_np)\n",
    "xs, ys = X[:, 0], X[:, 1]\n",
    "\n",
    "# Set up colors per clusters using a dictionary\n",
    "cluster_colors = {0: 'k', 1: 'b', 2: 'r'}\n",
    "# set up cluster names using a dictionary\n",
    "cluster_names = {}\n",
    "for i in range(num_clusters):\n",
    "    cluster_names[i] = \", \".join(Cluster_keywords_summary[i])"
   ]
  },
  {
   "cell_type": "code",
   "execution_count": 16,
   "metadata": {},
   "outputs": [
    {
     "data": {
      "image/png": "[encoded data removed]",
      "text/plain": [
       "<Figure size 1152x648 with 1 Axes>"
      ]
     },
     "metadata": {},
     "output_type": "display_data"
    }
   ],
   "source": [
    "%matplotlib inline\n",
    "\n",
    "# create data frame with PCA cluster results\n",
    "df = pd.DataFrame(dict(x=xs, y=ys, label=clusters, title=titles))\n",
    "# groups = df.groupby(clusters)\n",
    "groups = df.groupby('label')\n",
    "\n",
    "# set up plot\n",
    "fig, ax = plt.subplots(figsize=(16, 9))\n",
    "#Set color for each cluster/group\n",
    "for name, group in groups:\n",
    "    ax.plot(group.x, group.y, marker='o', linestyle='', ms=12,\n",
    "           label=cluster_names[name], color=cluster_colors[name],\n",
    "           mec='none')\n",
    "\n",
    "#show legend with only 1 point\n",
    "ax.legend(numpoints=1, loc='lower right')\n",
    "plt.show()"
   ]
  },
  {
   "cell_type": "markdown",
   "metadata": {},
   "source": [
    "Part 5: Topic Modeling - Latent Dirichlet Allocation\n",
    "Use LDA to group the movies"
   ]
  },
  {
   "cell_type": "code",
   "execution_count": 17,
   "metadata": {},
   "outputs": [],
   "source": [
    "# Now use inforamtion to build a 100*538 matrix\n",
    "terms_dict = {tf_selected_words[x]:x for x in range(len(tf_selected_words))}\n",
    "\n",
    "feature_matrix_info_tf = []\n",
    "for i in info:\n",
    "    current_doc_stats = [0] * len(tf_selected_words)\n",
    "    allwords_stemmed = tokenization_and_stemming(i)\n",
    "    for get_terms in allwords_stemmed:\n",
    "        if get_terms in tf_selected_words:\n",
    "            current_doc_stats[terms_dict[get_terms]] += 1\n",
    "    current_doc_stats = np.asarray(current_doc_stats)\n",
    "    feature_matrix_info_tf.append(current_doc_stats)\n",
    "    \n",
    "feature_matrix_info_tf = np.asarray(feature_matrix_info_tf)"
   ]
  },
  {
   "cell_type": "code",
   "execution_count": 18,
   "metadata": {},
   "outputs": [],
   "source": [
    "model = lda.LDA(n_topics=3, n_iter=500, random_state=0)"
   ]
  },
  {
   "cell_type": "code",
   "execution_count": 19,
   "metadata": {},
   "outputs": [
    {
     "name": "stderr",
     "output_type": "stream",
     "text": [
      "INFO:lda:n_documents: 100\n",
      "INFO:lda:vocab_size: 538\n",
      "INFO:lda:n_words: 61218\n",
      "INFO:lda:n_topics: 3\n",
      "INFO:lda:n_iter: 500\n",
      "INFO:lda:<0> log likelihood: -447812\n",
      "INFO:lda:<10> log likelihood: -413122\n",
      "INFO:lda:<20> log likelihood: -402783\n",
      "INFO:lda:<30> log likelihood: -398617\n",
      "INFO:lda:<40> log likelihood: -396470\n",
      "INFO:lda:<50> log likelihood: -395118\n",
      "INFO:lda:<60> log likelihood: -393928\n",
      "INFO:lda:<70> log likelihood: -393062\n",
      "INFO:lda:<80> log likelihood: -392650\n",
      "INFO:lda:<90> log likelihood: -391784\n",
      "INFO:lda:<100> log likelihood: -390917\n",
      "INFO:lda:<110> log likelihood: -390273\n",
      "INFO:lda:<120> log likelihood: -390534\n",
      "INFO:lda:<130> log likelihood: -390092\n",
      "INFO:lda:<140> log likelihood: -390318\n",
      "INFO:lda:<150> log likelihood: -389616\n",
      "INFO:lda:<160> log likelihood: -389337\n",
      "INFO:lda:<170> log likelihood: -388750\n",
      "INFO:lda:<180> log likelihood: -388836\n",
      "INFO:lda:<190> log likelihood: -388691\n",
      "INFO:lda:<200> log likelihood: -387748\n",
      "INFO:lda:<210> log likelihood: -387632\n",
      "INFO:lda:<220> log likelihood: -387629\n",
      "INFO:lda:<230> log likelihood: -387613\n",
      "INFO:lda:<240> log likelihood: -387504\n",
      "INFO:lda:<250> log likelihood: -387333\n",
      "INFO:lda:<260> log likelihood: -387794\n",
      "INFO:lda:<270> log likelihood: -387456\n",
      "INFO:lda:<280> log likelihood: -387340\n",
      "INFO:lda:<290> log likelihood: -387462\n",
      "INFO:lda:<300> log likelihood: -387781\n",
      "INFO:lda:<310> log likelihood: -387294\n",
      "INFO:lda:<320> log likelihood: -387489\n",
      "INFO:lda:<330> log likelihood: -387092\n",
      "INFO:lda:<340> log likelihood: -387255\n",
      "INFO:lda:<350> log likelihood: -387079\n",
      "INFO:lda:<360> log likelihood: -386862\n",
      "INFO:lda:<370> log likelihood: -386416\n",
      "INFO:lda:<380> log likelihood: -386547\n",
      "INFO:lda:<390> log likelihood: -386249\n",
      "INFO:lda:<400> log likelihood: -386475\n",
      "INFO:lda:<410> log likelihood: -386637\n",
      "INFO:lda:<420> log likelihood: -386074\n",
      "INFO:lda:<430> log likelihood: -386450\n",
      "INFO:lda:<440> log likelihood: -386366\n",
      "INFO:lda:<450> log likelihood: -386506\n",
      "INFO:lda:<460> log likelihood: -386258\n",
      "INFO:lda:<470> log likelihood: -386410\n",
      "INFO:lda:<480> log likelihood: -386780\n",
      "INFO:lda:<490> log likelihood: -385966\n",
      "INFO:lda:<499> log likelihood: -385756\n"
     ]
    }
   ],
   "source": [
    "#@\"model.topic_word_\"saves the importance of tf_selected_words in LDA model, i.e. words similarity matrix.\n",
    "# Its shape is (n_toipcs, num_of_selected_words)\n",
    "#@\"model.doc_topic_\"saves the document topic results, i.e. document topic matrix. \n",
    "# Its shape is (num_of_documents, n_topics)\n",
    "\n",
    "model.fit(feature_matrix_info_tf)\n",
    "topic_word = model.topic_word_   # model.components_ also works\n",
    "n_top_words = 10\n",
    "\n",
    "topic_keywords_list = []\n",
    "for topic_dist in topic_word:\n",
    "    # Here we select the top 6 (n_top_words) words\n",
    "    lda_topic_words = np.array(tf_selected_words)[np.argsort(topic_dist)][:-(n_top_words+1):-1]\n",
    "    for i in range(len(lda_topic_words)):\n",
    "        lda_topic_words[i] = vocab_frame_dict[lda_topic_words[i]]\n",
    "    topic_keywords_list.append(lda_topic_words.tolist())"
   ]
  },
  {
   "cell_type": "code",
   "execution_count": 20,
   "metadata": {},
   "outputs": [
    {
     "name": "stdout",
     "output_type": "stream",
     "text": [
      "<Document clustering result by LDA>\n",
      "Cluster 1 words: friend, family, father, george, home, love, want, new, life, becomes\n",
      "Cluster 1 titles (36 movies): \n",
      "The Godfather, Raging Bull, Gone with the Wind, Citizen Kane, Titanic, The Godfather: Part II, Forrest Gump, The Sound of Music, It's a Wonderful Life, 12 Angry Men, Amadeus, Gandhi, A Streetcar Named Desire, The Philadelphia Story, The Best Years of Our Lives, Ben-Hur, Doctor Zhivago, Braveheart, High Noon, The Pianist, Goodfellas, The King's Speech, It Happened One Night, A Place in the Sun, Midnight Cowboy, Mr. Smith Goes to Washington, Rain Man, Annie Hall, Out of Africa, Good Will Hunting, Terms of Endearment, Giant, Network, Wuthering Heights, Rebel Without a Cause, Yankee Doodle Dandy \n",
      "\n",
      "Cluster 0 words: days, n't, say, night, asks, car, away, killing, goes, police\n",
      "Cluster 0 titles (48 movies): \n",
      "The Shawshank Redemption, Casablanca, One Flew Over the Cuckoo's Nest, The Wizard of Oz, Psycho, Sunset Blvd., Vertigo, On the Waterfront, West Side Story, E.T. the Extra-Terrestrial, 2001: A Space Odyssey, The Silence of the Lambs, Chinatown, Singin' in the Rain, Some Like It Hot, From Here to Eternity, Unforgiven, Raiders of the Lost Ark, Rocky, To Kill a Mockingbird, An American in Paris, My Fair Lady, Jaws, The Good, the Bad and the Ugly, Butch Cassidy and the Sundance Kid, The Apartment, The Exorcist, The Deer Hunter, The French Connection, City Lights, Tootsie, Fargo, The Grapes of Wrath, Shane, The Green Mile, Close Encounters of the Third Kind, Nashville, The Graduate, American Graffiti, Pulp Fiction, The African Queen, The Maltese Falcon, A Clockwork Orange, Taxi Driver, Double Indemnity, Rear Window, The Third Man, North by Northwest \n",
      "\n",
      "Cluster 2 words: killing, war, orders, men, soldiers, army, forcing, prison, attacked, captain\n",
      "Cluster 2 titles (16 movies): \n",
      "Schindler's List, Lawrence of Arabia, Star Wars, The Bridge on the River Kwai, Dr. Strangelove or: How I Learned to Stop Worrying and Love the Bomb, Apocalypse Now, The Lord of the Rings: The Return of the King, Gladiator, Saving Private Ryan, Patton, The Treasure of the Sierra Madre, Platoon, Dances with Wolves, All Quiet on the Western Front, Stagecoach, Mutiny on the Bounty \n",
      "\n"
     ]
    }
   ],
   "source": [
    "doc_topic = model.doc_topic_\n",
    "topic_doc_dict = {}\n",
    "\n",
    "print (\"<Document clustering result by LDA>\")\n",
    "for i in range(len(doc_topic)):\n",
    "    topicID = doc_topic[i].argmax()\n",
    "    if topicID not in topic_doc_dict:\n",
    "        topic_doc_dict[topicID] = [titles[i]]\n",
    "    else:\n",
    "        topic_doc_dict[topicID].append(titles[i])\n",
    "for i in topic_doc_dict:\n",
    "    print (\"Cluster \" + str(i) + \" words: \" + \", \".join(topic_keywords_list[i]))\n",
    "    print (\"Cluster \" + str(i) + \" titles (\" + str(len(topic_doc_dict[i])) + \" movies): \")\n",
    "    print (', '.join(topic_doc_dict[i]), '\\n')"
   ]
  },
  {
   "cell_type": "markdown",
   "metadata": {},
   "source": [
    "We got a similar set of three clusters/topics as those we got with KMeans, but the way ther are grouped is different."
   ]
  }
 ],
 "metadata": {
  "kernelspec": {
   "display_name": "Python 3",
   "language": "python",
   "name": "python3"
  },
  "language_info": {
   "codemirror_mode": {
    "name": "ipython",
    "version": 3
   },
   "file_extension": ".py",
   "mimetype": "text/x-python",
   "name": "python",
   "nbconvert_exporter": "python",
   "pygments_lexer": "ipython3",
   "version": "3.6.5"
  }
 },
 "nbformat": 4,
 "nbformat_minor": 2
}
